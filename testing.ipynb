{
 "cells": [
  {
   "cell_type": "code",
   "execution_count": null,
   "metadata": {},
   "outputs": [],
   "source": [
    "import pandas as pd\n",
    "from transformers import BartTokenizer, BartForConditionalGeneration\n",
    "from rouge_score import rouge_scorer\n",
    "from bert_score import score as bert_score\n",
    "\n",
    "test_df = pd.read_csv(\"D:\\\\Downloads\\\\sem 6\\\\nlp\\\\Project\\\\EnglishNews_test.csv\")\n",
    "\n",
    "model = BartForConditionalGeneration.from_pretrained(\"D:\\\\Downloads\\\\sem 6\\\\nlp\\\\Project\\\\model_checkpoint\")\n",
    "tokenizer = BartTokenizer.from_pretrained('facebook/bart-base')\n",
    "\n",
    "generated_summaries = []\n",
    "target_summaries = []\n",
    "for _, row in test_df.iterrows():\n",
    "    article = row['Article']\n",
    "    target_summary = row['Heading']\n",
    "\n",
    "    inputs = tokenizer(article, padding=\"max_length\", truncation=True, max_length=1024, return_tensors=\"pt\")\n",
    "    generated_ids = model.generate(inputs.input_ids, max_length=150, num_beams=4, early_stopping=True)\n",
    "    generated_summary = tokenizer.decode(generated_ids[0], skip_special_tokens=True)\n",
    "\n",
    "    generated_summaries.append(generated_summary)\n",
    "    target_summaries.append(target_summary)\n",
    "\n",
    "rouge_scorer = rouge_scorer.RougeScorer(['rougeL'], use_stemmer=True)\n",
    "rouge_scores = [rouge_scorer.score(gen_summary, target_summary)['rougeL'].fmeasure \n",
    "                for gen_summary, target_summary in zip(generated_summaries, target_summaries)]\n",
    "avg_rouge_l_f1 = sum(rouge_scores) / len(rouge_scores)\n",
    "\n",
    "bert_scores = bert_score(generated_summaries, target_summaries, lang='en', model_type='bert-base-uncased')\n",
    "avg_bert_score = bert_scores[2].mean().item() \n",
    "\n",
    "print(\"Test ROUGE-L (n=2) F1:\", avg_rouge_l_f1)\n",
    "print(\"Test BERTScore F1:\", avg_bert_score)\n",
    "\n",
    "test_generated_df = pd.DataFrame({'Article': test_df['Article'], 'Generated_Summary': generated_summaries})\n",
    "test_generated_df.to_csv(\"D:\\\\Downloads\\\\sem 6\\\\nlp\\\\Project\\\\test_generated_summary.csv\", index=False)"
   ]
  }
 ],
 "metadata": {
  "language_info": {
   "name": "python"
  }
 },
 "nbformat": 4,
 "nbformat_minor": 2
}
